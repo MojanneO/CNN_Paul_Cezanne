{
 "cells": [
  {
   "cell_type": "code",
   "execution_count": 2,
   "id": "9f0d8c89",
   "metadata": {},
   "outputs": [],
   "source": [
    "import tensorflow as tf\n",
    "import cv2\n",
    "import PIL\n",
    "import os\n",
    "import os.path\n",
    "from PIL import Image\n",
    "import numpy as np"
   ]
  },
  {
   "cell_type": "markdown",
   "id": "6efaa368",
   "metadata": {},
   "source": [
    "Black Padding"
   ]
  },
  {
   "cell_type": "code",
   "execution_count": 3,
   "id": "e4d0e59f",
   "metadata": {},
   "outputs": [
    {
     "name": "stderr",
     "output_type": "stream",
     "text": [
      "C:\\Users\\mojan\\anaconda3\\envs\\CNN\\lib\\site-packages\\ipykernel_launcher.py:11: DeprecationWarning: ANTIALIAS is deprecated and will be removed in Pillow 10 (2023-07-01). Use Resampling.LANCZOS instead.\n",
      "  # This is added back by InteractiveShellApp.init_path()\n"
     ]
    }
   ],
   "source": [
    "#Resizing images \n",
    "desired_size = 512\n",
    "\n",
    "f = r'C:\\Users\\mojan\\Desktop\\Dataset_Final\\Black Padding\\1024\\training_set\\cezanne'\n",
    "for file in os.listdir(f):\n",
    "    f_img = f+\"/\"+file\n",
    "    im = Image.open(f_img)\n",
    "    old_size = im.size\n",
    "    ratio = float(desired_size)/max(old_size)\n",
    "    new_size = tuple([int(x*ratio) for x in old_size])\n",
    "    im = im.resize(new_size, Image.ANTIALIAS)\n",
    "    new_im = Image.new(\"RGB\", (desired_size, desired_size))\n",
    "    new_im.paste(im, ((desired_size-new_size[0])//2,\n",
    "                      (desired_size-new_size[1])//2))\n",
    "    new_im.save(f_img)"
   ]
  },
  {
   "cell_type": "code",
   "execution_count": 4,
   "id": "6b45bef0",
   "metadata": {},
   "outputs": [
    {
     "name": "stderr",
     "output_type": "stream",
     "text": [
      "C:\\Users\\mojan\\anaconda3\\envs\\CNN\\lib\\site-packages\\ipykernel_launcher.py:8: DeprecationWarning: ANTIALIAS is deprecated and will be removed in Pillow 10 (2023-07-01). Use Resampling.LANCZOS instead.\n",
      "  \n"
     ]
    }
   ],
   "source": [
    "f = r'C:\\Users\\mojan\\Desktop\\Dataset_Final\\Black Padding\\1024\\training_set\\others'\n",
    "for file in os.listdir(f):\n",
    "    f_img = f+\"/\"+file\n",
    "    im = Image.open(f_img)\n",
    "    old_size = im.size\n",
    "    ratio = float(desired_size)/max(old_size)\n",
    "    new_size = tuple([int(x*ratio) for x in old_size])\n",
    "    im = im.resize(new_size, Image.ANTIALIAS)\n",
    "    new_im = Image.new(\"RGB\", (desired_size, desired_size))\n",
    "    new_im.paste(im, ((desired_size-new_size[0])//2,\n",
    "                      (desired_size-new_size[1])//2))\n",
    "    new_im.save(f_img)"
   ]
  },
  {
   "cell_type": "code",
   "execution_count": 5,
   "id": "8ef63d6e",
   "metadata": {},
   "outputs": [
    {
     "name": "stderr",
     "output_type": "stream",
     "text": [
      "C:\\Users\\mojan\\anaconda3\\envs\\CNN\\lib\\site-packages\\ipykernel_launcher.py:8: DeprecationWarning: ANTIALIAS is deprecated and will be removed in Pillow 10 (2023-07-01). Use Resampling.LANCZOS instead.\n",
      "  \n"
     ]
    }
   ],
   "source": [
    "f = r'C:\\Users\\mojan\\Desktop\\Dataset_Final\\Black Padding\\1024\\validation_set\\cezanne'\n",
    "for file in os.listdir(f):\n",
    "    f_img = f+\"/\"+file\n",
    "    im = Image.open(f_img)\n",
    "    old_size = im.size\n",
    "    ratio = float(desired_size)/max(old_size)\n",
    "    new_size = tuple([int(x*ratio) for x in old_size])\n",
    "    im = im.resize(new_size, Image.ANTIALIAS)\n",
    "    new_im = Image.new(\"RGB\", (desired_size, desired_size))\n",
    "    new_im.paste(im, ((desired_size-new_size[0])//2,\n",
    "                      (desired_size-new_size[1])//2))\n",
    "    new_im.save(f_img)"
   ]
  },
  {
   "cell_type": "code",
   "execution_count": 6,
   "id": "9af03652",
   "metadata": {},
   "outputs": [
    {
     "name": "stderr",
     "output_type": "stream",
     "text": [
      "C:\\Users\\mojan\\anaconda3\\envs\\CNN\\lib\\site-packages\\ipykernel_launcher.py:8: DeprecationWarning: ANTIALIAS is deprecated and will be removed in Pillow 10 (2023-07-01). Use Resampling.LANCZOS instead.\n",
      "  \n"
     ]
    }
   ],
   "source": [
    "f = r'C:\\Users\\mojan\\Desktop\\Dataset_Final\\Black Padding\\1024\\validation_set\\others'\n",
    "for file in os.listdir(f):\n",
    "    f_img = f+\"/\"+file\n",
    "    im = Image.open(f_img)\n",
    "    old_size = im.size\n",
    "    ratio = float(desired_size)/max(old_size)\n",
    "    new_size = tuple([int(x*ratio) for x in old_size])\n",
    "    im = im.resize(new_size, Image.ANTIALIAS)\n",
    "    new_im = Image.new(\"RGB\", (desired_size, desired_size))\n",
    "    new_im.paste(im, ((desired_size-new_size[0])//2,\n",
    "                      (desired_size-new_size[1])//2))\n",
    "    new_im.save(f_img)"
   ]
  },
  {
   "cell_type": "markdown",
   "id": "bdd26813",
   "metadata": {},
   "source": [
    "predict set"
   ]
  },
  {
   "cell_type": "code",
   "execution_count": 14,
   "id": "b67988e8",
   "metadata": {},
   "outputs": [
    {
     "name": "stderr",
     "output_type": "stream",
     "text": [
      "C:\\Users\\mojan\\anaconda3\\envs\\CNN\\lib\\site-packages\\ipykernel_launcher.py:8: DeprecationWarning: ANTIALIAS is deprecated and will be removed in Pillow 10 (2023-07-01). Use Resampling.LANCZOS instead.\n",
      "  \n"
     ]
    }
   ],
   "source": [
    "f = r'C:\\Users\\mojan\\Desktop\\Dataset_Final\\Black Padding\\predict_set'\n",
    "for file in os.listdir(f):\n",
    "    f_img = f+\"/\"+file\n",
    "    im = Image.open(f_img)\n",
    "    old_size = im.size\n",
    "    ratio = float(desired_size)/max(old_size)\n",
    "    new_size = tuple([int(x*ratio) for x in old_size])\n",
    "    im = im.resize(new_size, Image.ANTIALIAS)\n",
    "    new_im = Image.new(\"RGB\", (desired_size, desired_size))\n",
    "    new_im.paste(im, ((desired_size-new_size[0])//2,\n",
    "                      (desired_size-new_size[1])//2))\n",
    "    new_im.save(f_img)"
   ]
  }
 ],
 "metadata": {
  "kernelspec": {
   "display_name": "Python 3 (ipykernel)",
   "language": "python",
   "name": "python3"
  },
  "language_info": {
   "codemirror_mode": {
    "name": "ipython",
    "version": 3
   },
   "file_extension": ".py",
   "mimetype": "text/x-python",
   "name": "python",
   "nbconvert_exporter": "python",
   "pygments_lexer": "ipython3",
   "version": "3.7.13"
  }
 },
 "nbformat": 4,
 "nbformat_minor": 5
}
