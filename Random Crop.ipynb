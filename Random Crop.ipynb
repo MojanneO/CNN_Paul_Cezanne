{
 "cells": [
  {
   "cell_type": "code",
   "execution_count": 2,
   "id": "c53f157e",
   "metadata": {},
   "outputs": [],
   "source": [
    "import os\n",
    "import sys\n",
    "import glob\n",
    "import argparse\n",
    "import cv2\n",
    "from matplotlib import pyplot as plt\n",
    "import tensorflow as tf  \n",
    "from tensorflow import keras\n",
    "import numpy as np"
   ]
  },
  {
   "cell_type": "markdown",
   "id": "78675ec2",
   "metadata": {},
   "source": [
    "center crop"
   ]
  },
  {
   "cell_type": "code",
   "execution_count": 12,
   "id": "6cf26ebd",
   "metadata": {},
   "outputs": [],
   "source": [
    "# center cropping the predict set\n",
    "f4= r'C:\\Users\\mojan\\Desktop\\Dataset_Final\\Random Cropping\\120-256\\predict_set\\cezanne'\n",
    "for file in os.listdir(f4):\n",
    "    f_img = f4+\"/\"+file\n",
    "    myimg =  cv2.imread(f_img)\n",
    "    myimg = np.array(myimg)\n",
    "    height, width = myimg.shape[0], myimg.shape[1]\n",
    "    dy = 256\n",
    "    dx = 256\n",
    "    x = (width - dx + 1) // 2\n",
    "    y = (height - dy + 1) // 2\n",
    "    cv2.imwrite(f_img, myimg[y:(y+dy), x:(x+dx), :])\n",
    "    \n",
    "f5= r'C:\\Users\\mojan\\Desktop\\Dataset_Final\\Random Cropping\\120-256\\predict_set\\others'\n",
    "for file in os.listdir(f5):\n",
    "    f_img = f5+\"/\"+file\n",
    "    myimg = cv2.imread(f_img)\n",
    "    myimg = np.array(myimg)\n",
    "    height, width = myimg.shape[0], myimg.shape[1]\n",
    "    dy = 256\n",
    "    dx = 256\n",
    "    x = (width - dx + 1) // 2\n",
    "    y = (height - dy + 1) // 2\n",
    "    cv2.imwrite(f_img, myimg[y:(y+dy), x:(x+dx), :])"
   ]
  },
  {
   "cell_type": "code",
   "execution_count": 1,
   "id": "6fe97aa2",
   "metadata": {},
   "outputs": [],
   "source": [
    "# random cropping my main data set, 30 images for each image\n",
    "def get_random_crop(image, crop_height, crop_width):\n",
    "\n",
    "    max_x = image.shape[1] - crop_width\n",
    "    max_y = image.shape[0] - crop_height\n",
    "\n",
    "    x = np.random.randint(0, max_x)\n",
    "    y = np.random.randint(0, max_y)\n",
    "\n",
    "    crop = image[y: y + crop_height, x: x + crop_width]\n",
    "\n",
    "    return crop"
   ]
  },
  {
   "cell_type": "markdown",
   "id": "40a77258",
   "metadata": {},
   "source": [
    "120 random crops of size 256x256 from each painting"
   ]
  },
  {
   "cell_type": "code",
   "execution_count": null,
   "id": "1bbcefa9",
   "metadata": {},
   "outputs": [],
   "source": [
    "path = r'C:\\Users\\mojan\\Desktop\\final 3\\cezanne'\n",
    "\n",
    "for file in os.listdir(path):\n",
    "    path_name = path+\"/\"+file\n",
    "    for counter in range(120):\n",
    "        image = cv2.imread(path_name)\n",
    "        image = np.array(image)\n",
    "        final_crop = get_random_crop(image, 256,256)\n",
    "        final_path = r'C:\\Users\\mojan\\Desktop\\Dataset_Final\\one last\\cezanne' +\"/\"+str(counter) + file\n",
    "        # final_crop = tensor_to_image(cropped_image)\n",
    "        cv2.imwrite( final_path, final_crop)"
   ]
  },
  {
   "cell_type": "code",
   "execution_count": 17,
   "id": "a2d4ea32",
   "metadata": {},
   "outputs": [],
   "source": [
    "path = r'C:\\Users\\mojan\\Desktop\\final 3\\autres'\n",
    "\n",
    "for file in os.listdir(path):\n",
    "    path_name = path+\"/\"+file\n",
    "    for counter in range(120):\n",
    "        image = cv2.imread(path_name)\n",
    "        image = np.array(image)\n",
    "        final_crop = get_random_crop(image, 256,256)\n",
    "        final_path = r'C:\\Users\\mojan\\Desktop\\Dataset_Final\\one last\\others' +\"/\"+str(counter) + file\n",
    "        # final_crop = tensor_to_image(cropped_image)\n",
    "        cv2.imwrite( final_path, final_crop)"
   ]
  },
  {
   "cell_type": "markdown",
   "id": "d1bcac0e",
   "metadata": {},
   "source": [
    "8 random crops of size 1024x1024 from each painting"
   ]
  },
  {
   "cell_type": "code",
   "execution_count": 18,
   "id": "6ba8fca9",
   "metadata": {},
   "outputs": [],
   "source": [
    "path = r'C:\\Users\\mojan\\Desktop\\cezanne-vs-alii\\cezanne'\n",
    "\n",
    "for file in os.listdir(path):\n",
    "    path_name = path+\"/\"+file\n",
    "    for counter in range(8):\n",
    "        image = cv2.imread(path_name)\n",
    "        image = np.array(image)\n",
    "        final_crop = get_random_crop(image, 1024,1024)\n",
    "        final_path = r'C:\\Users\\mojan\\Desktop\\Dataset_Final\\Random Cropping\\8-1024\\cezanne' +\"/\"+str(counter) + file\n",
    "        # final_crop = tensor_to_image(cropped_image)\n",
    "        cv2.imwrite( final_path, final_crop)"
   ]
  },
  {
   "cell_type": "code",
   "execution_count": 19,
   "id": "388c9612",
   "metadata": {},
   "outputs": [],
   "source": [
    "path = r'C:\\Users\\mojan\\Desktop\\cezanne-vs-alii\\autres'\n",
    "\n",
    "for file in os.listdir(path):\n",
    "    path_name = path+\"/\"+file\n",
    "    for counter in range(8):\n",
    "        image = cv2.imread(path_name)\n",
    "        image = np.array(image)\n",
    "        final_crop = get_random_crop(image, 1024,1024)\n",
    "        final_path = r'C:\\Users\\mojan\\Desktop\\Dataset_Final\\Random Cropping\\8-1024\\others' +\"/\"+str(counter) + file\n",
    "        # final_crop = tensor_to_image(cropped_image)\n",
    "        cv2.imwrite( final_path, final_crop)"
   ]
  },
  {
   "cell_type": "markdown",
   "id": "a04b1131",
   "metadata": {},
   "source": [
    "8 random crops of size 1024x1024 from each painting"
   ]
  },
  {
   "cell_type": "code",
   "execution_count": 21,
   "id": "12e09745",
   "metadata": {},
   "outputs": [],
   "source": [
    "path = r'C:\\Users\\mojan\\Desktop\\cezanne-vs-alii\\cezanne'\n",
    "\n",
    "for file in os.listdir(path):\n",
    "    path_name = path+\"/\"+file\n",
    "    for counter in range(30):\n",
    "        image = cv2.imread(path_name)\n",
    "        image = np.array(image)\n",
    "        final_crop = get_random_crop(image, 512,512)\n",
    "        final_path = r'C:\\Users\\mojan\\Desktop\\Dataset_Final\\Random Cropping\\30-512\\cezanne' +\"/\"+str(counter) + file\n",
    "        # final_crop = tensor_to_image(cropped_image)\n",
    "        cv2.imwrite( final_path, final_crop)"
   ]
  },
  {
   "cell_type": "code",
   "execution_count": 22,
   "id": "3606f736",
   "metadata": {},
   "outputs": [],
   "source": [
    "path = r'C:\\Users\\mojan\\Desktop\\cezanne-vs-alii\\autres'\n",
    "\n",
    "for file in os.listdir(path):\n",
    "    path_name = path+\"/\"+file\n",
    "    for counter in range(30):\n",
    "        image = cv2.imread(path_name)\n",
    "        image = np.array(image)\n",
    "        final_crop = get_random_crop(image, 512, 512)\n",
    "        final_path = r'C:\\Users\\mojan\\Desktop\\Dataset_Final\\Random Cropping\\30-512\\others' +\"/\"+str(counter) + file\n",
    "        # final_crop = tensor_to_image(cropped_image)\n",
    "        cv2.imwrite( final_path, final_crop)"
   ]
  }
 ],
 "metadata": {
  "kernelspec": {
   "display_name": "Python 3 (ipykernel)",
   "language": "python",
   "name": "python3"
  },
  "language_info": {
   "codemirror_mode": {
    "name": "ipython",
    "version": 3
   },
   "file_extension": ".py",
   "mimetype": "text/x-python",
   "name": "python",
   "nbconvert_exporter": "python",
   "pygments_lexer": "ipython3",
   "version": "3.7.13"
  }
 },
 "nbformat": 4,
 "nbformat_minor": 5
}
